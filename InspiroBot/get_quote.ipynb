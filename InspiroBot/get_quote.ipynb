{
 "cells": [
  {
   "cell_type": "code",
   "execution_count": 7,
   "metadata": {},
   "outputs": [],
   "source": [
    "import inspirobot\n",
    "import requests\n",
    "from PIL import Image\n",
    "from time import sleep\n",
    "\n",
    "for i in range(10):\n",
    "    url = inspirobot.generate()\n",
    "    data = requests.get(url).content\n",
    "    f = open((str(i)+'.jpg'),'wb')\n",
    "    f.write(data)\n",
    "    f.close()\n",
    "    sleep(10)"
   ]
  }
 ],
 "metadata": {
  "kernelspec": {
   "display_name": "Python 3",
   "language": "python",
   "name": "python3"
  },
  "language_info": {
   "codemirror_mode": {
    "name": "ipython",
    "version": 3
   },
   "file_extension": ".py",
   "mimetype": "text/x-python",
   "name": "python",
   "nbconvert_exporter": "python",
   "pygments_lexer": "ipython3",
   "version": "3.9.13"
  },
  "orig_nbformat": 4
 },
 "nbformat": 4,
 "nbformat_minor": 2
}
