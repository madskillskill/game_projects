{
 "cells": [
  {
   "cell_type": "code",
   "execution_count": 13,
   "metadata": {
    "metadata": {}
   },
   "outputs": [
    {
     "data": {
      "text/plain": [
       "(5, 0)"
      ]
     },
     "execution_count": 13,
     "metadata": {},
     "output_type": "execute_result"
    }
   ],
   "source": [
    "import pygame\n",
    "\n",
    "from pygame.locals import *\n",
    "\n",
    "pygame.init()"
   ]
  },
  {
   "cell_type": "code",
   "execution_count": 14,
   "metadata": {
    "metadata": {}
   },
   "outputs": [],
   "source": [
    "screen_width = 400\n",
    "screen_height = 400\n",
    "\n",
    "screen = pygame.display.set_mode((screen_width, screen_height))\n",
    "pygame.display.set_caption('2-0-4-8')\n",
    "\n",
    "line_width = 8\n",
    "clicked = False\n",
    "pos = []\n",
    "player = 1\n",
    "\n",
    "green = (0, 255, 0)\n",
    "red = (255, 0, 0)\n",
    "blue = (0, 0, 255)\n",
    "gray = (200, 200, 200)\n",
    "\n",
    "game_over = False\n",
    "\n",
    "font = pygame.font.SysFont(None, 40)\n",
    "\n",
    "again_rect = Rect(screen_width // 2 - 80, screen_height // 2, 160, 50)"
   ]
  },
  {
   "cell_type": "code",
   "execution_count": 15,
   "metadata": {
    "metadata": {}
   },
   "outputs": [],
   "source": [
    "def draw_grid():\n",
    "    bg = (255, 255, 225)\n",
    "    grid = (50, 50, 50)\n",
    "    screen.fill(bg)\n",
    "    for x in range(1,4):\n",
    "        pygame.draw.line(screen, grid, (0, x *100),\n",
    "                         (screen_width, x * 100), line_width)\n",
    "        pygame.draw.line(screen, grid, (x * 100, 0),\n",
    "                         (x * 100, screen_height), line_width)"
   ]
  },
  {
   "cell_type": "code",
   "execution_count": null,
   "metadata": {},
   "outputs": [],
   "source": [
    "values = [2, 4, 8, 16, 32, 64, 128, 256, 512, 1024, 2048, 4096]\n",
    "\n",
    "def upgrade(value):\n"
   ]
  },
  {
   "cell_type": "code",
   "execution_count": 16,
   "metadata": {
    "metadata": {}
   },
   "outputs": [],
   "source": [
    "run = True\n",
    "\n",
    "while run:\n",
    "    draw_grid()\n",
    "    for event in pygame.event.get():\n",
    "        if event.type == pygame.QUIT:\n",
    "            run = False\n",
    "    pygame.display.update()\n",
    "\n",
    "pygame.quit()"
   ]
  }
 ],
 "metadata": {
  "kernelspec": {
   "display_name": "Python 3",
   "language": "python",
   "name": "python3"
  },
  "language_info": {
   "codemirror_mode": {
    "name": "ipython",
    "version": 3
   },
   "file_extension": ".py",
   "mimetype": "text/x-python",
   "name": "python",
   "nbconvert_exporter": "python",
   "pygments_lexer": "ipython3",
   "version": "3.10.12"
  }
 },
 "nbformat": 4,
 "nbformat_minor": 2
}
