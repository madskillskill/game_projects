{
 "cells": [
  {
   "cell_type": "code",
   "execution_count": 8,
   "metadata": {
    "metadata": {}
   },
   "outputs": [],
   "source": [
    "import pygame\n",
    "\n",
    "from pygame.locals import *\n",
    "\n",
    "pygame.init()\n",
    "\n",
    "import random"
   ]
  },
  {
   "cell_type": "code",
   "execution_count": 9,
   "metadata": {
    "metadata": {}
   },
   "outputs": [],
   "source": [
    "screen_width = 400\n",
    "screen_height = 400\n",
    "\n",
    "screen = pygame.display.set_mode((screen_width, screen_height))\n",
    "pygame.display.set_caption('2-0-4-8')\n",
    "\n",
    "line_width = 8\n",
    "clicked = False\n",
    "pos = []\n",
    "player = 1\n",
    "\n",
    "green = (0, 255, 0)\n",
    "red = (255, 0, 0)\n",
    "blue = (0, 0, 255)\n",
    "gray = (200, 200, 200)\n",
    "\n",
    "game_over = False\n",
    "\n",
    "font = pygame.font.SysFont(None, 40)\n",
    "\n",
    "again_rect = Rect(screen_width // 2 - 80, screen_height // 2, 160, 50)"
   ]
  },
  {
   "cell_type": "code",
   "execution_count": 10,
   "metadata": {
    "metadata": {}
   },
   "outputs": [],
   "source": [
    "def draw_grid():\n",
    "    bg = (255, 255, 225)\n",
    "    grid = (50, 50, 50)\n",
    "    screen.fill(bg)\n",
    "    for x in range(1,4):\n",
    "        pygame.draw.line(screen, grid, (0, x *100),\n",
    "                         (screen_width, x * 100), line_width)\n",
    "        pygame.draw.line(screen, grid, (x * 100, 0),\n",
    "                         (x * 100, screen_height), line_width)"
   ]
  },
  {
   "cell_type": "code",
   "execution_count": 11,
   "metadata": {},
   "outputs": [
    {
     "name": "stdout",
     "output_type": "stream",
     "text": [
      "[[0, 0, 0, 0], [0, 0, 0, 0], [0, 0, 0, 0], [0, 0, 0, 0]]\n"
     ]
    }
   ],
   "source": [
    "values = [2, 4, 8, 16, 32, 64, 128, 256, 512, 1024, 2048, 4096]\n",
    "\n",
    "field = []\n",
    "\n",
    "for x in range(4):\n",
    "    row = [0]*4\n",
    "    field.append(row)\n",
    "\n",
    "print(field)\n",
    "\n",
    "\n",
    "def upgrade(value):\n",
    "    pass\n",
    "\n",
    "field[1][1] = 4\n",
    "field[0][3] = 16\n",
    "field[1][3] = 8\n",
    "field[0][0] = 16"
   ]
  },
  {
   "cell_type": "code",
   "execution_count": 12,
   "metadata": {},
   "outputs": [],
   "source": [
    "def draw_value(winner):\n",
    "    win_text = 'Player ' + str(winner) + ' wins!'\n",
    "    win_img = font.render(win_text, True, blue)\n",
    "    pygame.draw.rect(screen, green,  (screen_width // 2 - 100, screen_height // 2 - 60, 200, 50))\n",
    "    screen.blit(win_img, (screen_width // 2 - 100, screen_height // 2 - 50))"
   ]
  },
  {
   "cell_type": "code",
   "execution_count": 13,
   "metadata": {},
   "outputs": [],
   "source": [
    "def draw_markers():\n",
    "    x_pos = 0\n",
    "    for x in field:\n",
    "        y_pos = 0\n",
    "        for y in x:\n",
    "            if y == 0:\n",
    "                pass\n",
    "            else:\n",
    "                win_img = font.render(str(y), True, blue)\n",
    "                # pygame.draw.rect(screen, green,  (x_pos*100 + 50, y_pos*100 + 50, 200, 50))\n",
    "                screen.blit(win_img, (x_pos*100 + 50, y_pos*100 + 50))\n",
    "            y_pos += 1\n",
    "        x_pos += 1\n",
    "        \n",
    "rand_gen = False\n",
    "def place_new():\n",
    "    global rand_gen\n",
    "    while rand_gen:\n",
    "        x = random.randint(0,3)\n",
    "        y = random.randint(0,3)\n",
    "        if field[x][y] == 0:\n",
    "            field[x][y] = 2\n",
    "            print('2 on ', x+1, 'x', y+1)\n",
    "            rand_gen = False"
   ]
  },
  {
   "cell_type": "code",
   "execution_count": 14,
   "metadata": {
    "metadata": {}
   },
   "outputs": [
    {
     "ename": "TypeError",
     "evalue": "'int' object is not callable",
     "output_type": "error",
     "traceback": [
      "\u001b[1;31m---------------------------------------------------------------------------\u001b[0m",
      "\u001b[1;31mTypeError\u001b[0m                                 Traceback (most recent call last)",
      "\u001b[1;32mc:\\SF\\game_projects\\game_projects\\new\\2048.ipynb Cell 7\u001b[0m in \u001b[0;36m<cell line: 4>\u001b[1;34m()\u001b[0m\n\u001b[0;32m      <a href='vscode-notebook-cell:/c%3A/SF/game_projects/game_projects/new/2048.ipynb#W4sZmlsZQ%3D%3D?line=8'>9</a>\u001b[0m \u001b[39mif\u001b[39;00m event\u001b[39m.\u001b[39mtype \u001b[39m==\u001b[39m pygame\u001b[39m.\u001b[39mQUIT:\n\u001b[0;32m     <a href='vscode-notebook-cell:/c%3A/SF/game_projects/game_projects/new/2048.ipynb#W4sZmlsZQ%3D%3D?line=9'>10</a>\u001b[0m     run \u001b[39m=\u001b[39m \u001b[39mFalse\u001b[39;00m\n\u001b[1;32m---> <a href='vscode-notebook-cell:/c%3A/SF/game_projects/game_projects/new/2048.ipynb#W4sZmlsZQ%3D%3D?line=10'>11</a>\u001b[0m key \u001b[39m=\u001b[39m pygame\u001b[39m.\u001b[39;49mKEYUP()\n\u001b[0;32m     <a href='vscode-notebook-cell:/c%3A/SF/game_projects/game_projects/new/2048.ipynb#W4sZmlsZQ%3D%3D?line=11'>12</a>\u001b[0m \u001b[39mif\u001b[39;00m key[pygame\u001b[39m.\u001b[39mK_s] \u001b[39m==\u001b[39m \u001b[39mTrue\u001b[39;00m:\n\u001b[0;32m     <a href='vscode-notebook-cell:/c%3A/SF/game_projects/game_projects/new/2048.ipynb#W4sZmlsZQ%3D%3D?line=12'>13</a>\u001b[0m     \u001b[39mprint\u001b[39m(\u001b[39m'\u001b[39m\u001b[39mkey s\u001b[39m\u001b[39m'\u001b[39m)\n",
      "\u001b[1;31mTypeError\u001b[0m: 'int' object is not callable"
     ]
    },
    {
     "ename": "",
     "evalue": "",
     "output_type": "error",
     "traceback": [
      "\u001b[1;31mThe Kernel crashed while executing code in the the current cell or a previous cell. Please review the code in the cell(s) to identify a possible cause of the failure. Click <a href='https://aka.ms/vscodeJupyterKernelCrash'>here</a> for more info. View Jupyter <a href='command:jupyter.viewOutput'>log</a> for further details."
     ]
    }
   ],
   "source": [
    "\n",
    "run = True\n",
    "\n",
    "\n",
    "while run:\n",
    "    # pygame.time.delay(100)\n",
    "    draw_grid()\n",
    "    draw_markers()\n",
    "    for event in pygame.event.get():\n",
    "        if event.type == pygame.QUIT:\n",
    "            run = False\n",
    "        key = pygame.key.get_pressed()\n",
    "        if key[pygame.K_s] == True:\n",
    "            print('key s')\n",
    "            pygame.time.delay(500)\n",
    "            rand_gen = True\n",
    "            x_pos = 0\n",
    "            for x in field:\n",
    "                y_pos = 0\n",
    "                \n",
    "                for y in x:\n",
    "                    if y != 0:\n",
    "                        if y_pos < 3:\n",
    "                            pygame.time.delay(500)\n",
    "                            if field[x_pos][y_pos+1] == 0:\n",
    "                                # print('A')\n",
    "                                # print(field[x_pos][y_pos+1], y_pos+1)\n",
    "                                field[x_pos][y_pos+1] = field[x_pos][y_pos]\n",
    "                                field[x_pos][y_pos] = 0\n",
    "                                pygame.time.delay(100)\n",
    "                            elif field[x_pos][y_pos+1] == y and y !=0:\n",
    "                                field[x_pos][y_pos+1] = y+y\n",
    "                                field[x_pos][y_pos] = 0\n",
    "                                # print('B')\n",
    "                                pygame.time.delay(100)\n",
    "                    y_pos += 1\n",
    "                x_pos += 1\n",
    "            place_new()\n",
    "        \n",
    "\n",
    "        \n",
    "                        \n",
    "            \n",
    "            \n",
    "    pygame.display.update()\n",
    "\n",
    "pygame.quit()"
   ]
  }
 ],
 "metadata": {
  "kernelspec": {
   "display_name": "Python 3",
   "language": "python",
   "name": "python3"
  },
  "language_info": {
   "codemirror_mode": {
    "name": "ipython",
    "version": 3
   },
   "file_extension": ".py",
   "mimetype": "text/x-python",
   "name": "python",
   "nbconvert_exporter": "python",
   "pygments_lexer": "ipython3",
   "version": "3.9.13"
  }
 },
 "nbformat": 4,
 "nbformat_minor": 2
}
