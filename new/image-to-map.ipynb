{
 "cells": [
  {
   "cell_type": "code",
   "execution_count": 28,
   "metadata": {},
   "outputs": [
    {
     "name": "stdout",
     "output_type": "stream",
     "text": [
      "28 31\n"
     ]
    }
   ],
   "source": [
    "from PIL import Image\n",
    "\n",
    "filename = \"map.png\"\n",
    "with Image.open(filename) as image:\n",
    "    width, height = image.size\n",
    "print(width, height)\n",
    "\n",
    "multi = 20"
   ]
  },
  {
   "cell_type": "code",
   "execution_count": 29,
   "metadata": {},
   "outputs": [
    {
     "name": "stdout",
     "output_type": "stream",
     "text": [
      "(0, 0, 0, 255)\n",
      "(0, 0, 0, 255)\n",
      "(255, 255, 255, 255)\n"
     ]
    }
   ],
   "source": [
    "im = Image.open(\"map.png\")\n",
    "px = im.load()\n",
    "print (px[4, 4])\n",
    "px[4, 4] = (0, 0, 0)\n",
    "print (px[4, 4])\n",
    "coordinate = x, y = 20, 20\n",
    " \n",
    "# using getpixel method\n",
    "print (im.getpixel(coordinate));"
   ]
  },
  {
   "cell_type": "code",
   "execution_count": 30,
   "metadata": {},
   "outputs": [
    {
     "name": "stdout",
     "output_type": "stream",
     "text": [
      "1\n",
      "0\n"
     ]
    }
   ],
   "source": [
    "def get_bin(x,y):\n",
    "    pixel = im.getpixel((x,y))\n",
    "    if pixel == (255, 255, 255, 255):\n",
    "        return 0\n",
    "    elif pixel == (0, 0, 0, 255):\n",
    "        return 1\n",
    "    else: pass\n",
    "    \n",
    "\n",
    "print(get_bin(0,0))\n",
    "print(get_bin(1,1))\n",
    "\n",
    "map_field = []\n",
    "\n",
    "for x in range(width):\n",
    "        row = [0]*height\n",
    "        map_field.append(row)\n",
    "\n",
    "for k in range(width):\n",
    "    for j in range(height):\n",
    "        # print(k,j)\n",
    "        map_field[k][j] = get_bin(k,j)\n",
    "        \n",
    "map_field[1][1] = 2"
   ]
  },
  {
   "cell_type": "code",
   "execution_count": 31,
   "metadata": {},
   "outputs": [
    {
     "name": "stdout",
     "output_type": "stream",
     "text": [
      "[[1, 1, 1, 1, 1, 1, 1, 1, 1, 1, 0, 0, 0, 1, 1, 1, 0, 0, 0, 1, 1, 1, 1, 1, 1, 1, 1, 1, 1, 1, 1], [1, 2, 0, 0, 0, 0, 0, 0, 0, 1, 0, 0, 0, 1, 0, 1, 0, 0, 0, 1, 0, 0, 0, 0, 1, 1, 0, 0, 0, 0, 1], [1, 0, 1, 1, 1, 0, 1, 1, 0, 1, 0, 0, 0, 1, 0, 1, 0, 0, 0, 1, 0, 1, 1, 0, 1, 1, 0, 1, 1, 0, 1], [1, 0, 1, 1, 1, 0, 1, 1, 0, 1, 0, 0, 0, 1, 0, 1, 0, 0, 0, 1, 0, 1, 1, 0, 0, 0, 0, 1, 1, 0, 1], [1, 0, 1, 1, 1, 0, 1, 1, 0, 1, 0, 0, 0, 1, 0, 1, 0, 0, 0, 1, 0, 1, 1, 1, 1, 1, 0, 1, 1, 0, 1], [1, 0, 1, 1, 1, 0, 1, 1, 0, 1, 1, 1, 1, 1, 0, 1, 1, 1, 1, 1, 0, 1, 1, 1, 1, 1, 0, 1, 1, 0, 1], [1, 0, 0, 0, 0, 0, 0, 0, 0, 0, 0, 0, 0, 0, 0, 0, 0, 0, 0, 0, 0, 0, 0, 0, 0, 0, 0, 1, 1, 0, 1], [1, 0, 1, 1, 1, 0, 1, 1, 1, 1, 1, 1, 1, 1, 0, 1, 1, 1, 1, 1, 0, 1, 1, 0, 1, 1, 1, 1, 1, 0, 1], [1, 0, 1, 1, 1, 0, 1, 1, 1, 1, 1, 1, 1, 1, 0, 1, 1, 1, 1, 1, 0, 1, 1, 0, 1, 1, 1, 1, 1, 0, 1], [1, 0, 1, 1, 1, 0, 0, 0, 0, 1, 1, 0, 0, 0, 0, 0, 0, 0, 0, 0, 0, 1, 1, 0, 0, 0, 0, 1, 1, 0, 1], [1, 0, 1, 1, 1, 0, 1, 1, 0, 1, 1, 0, 1, 1, 1, 1, 1, 0, 1, 1, 0, 1, 1, 0, 1, 1, 0, 1, 1, 0, 1], [1, 0, 1, 1, 1, 0, 1, 1, 0, 1, 1, 0, 1, 0, 0, 0, 1, 0, 1, 1, 0, 1, 1, 0, 1, 1, 0, 1, 1, 0, 1], [1, 0, 0, 0, 0, 0, 1, 1, 0, 0, 0, 0, 1, 0, 0, 0, 1, 0, 1, 1, 0, 0, 0, 0, 1, 1, 0, 0, 0, 0, 1], [1, 1, 1, 1, 1, 0, 1, 1, 1, 1, 1, 0, 1, 0, 0, 0, 1, 0, 1, 1, 1, 1, 1, 0, 1, 1, 1, 1, 1, 0, 1], [1, 1, 1, 1, 1, 0, 1, 1, 1, 1, 1, 0, 1, 0, 0, 0, 1, 0, 1, 1, 1, 1, 1, 0, 1, 1, 1, 1, 1, 0, 1], [1, 0, 0, 0, 0, 0, 1, 1, 0, 0, 0, 0, 1, 0, 0, 0, 1, 0, 1, 1, 0, 0, 0, 0, 1, 1, 0, 0, 0, 0, 1], [1, 0, 1, 1, 1, 0, 1, 1, 0, 1, 1, 0, 1, 0, 0, 0, 1, 0, 1, 1, 0, 1, 1, 0, 1, 1, 0, 1, 1, 0, 1], [1, 0, 1, 1, 1, 0, 1, 1, 0, 1, 1, 0, 1, 1, 1, 1, 1, 0, 1, 1, 0, 1, 1, 0, 1, 1, 0, 1, 1, 0, 1], [1, 0, 1, 1, 1, 0, 0, 0, 0, 1, 1, 0, 0, 0, 0, 0, 0, 0, 0, 0, 0, 1, 1, 0, 0, 0, 0, 1, 1, 0, 1], [1, 0, 1, 1, 1, 0, 1, 1, 1, 1, 1, 1, 1, 1, 0, 1, 1, 1, 1, 1, 0, 1, 1, 0, 1, 1, 1, 1, 1, 0, 1], [1, 0, 1, 1, 1, 0, 1, 1, 1, 1, 1, 1, 1, 1, 0, 1, 1, 1, 1, 1, 0, 1, 1, 0, 1, 1, 1, 1, 1, 0, 1], [1, 0, 0, 0, 0, 0, 0, 0, 0, 0, 0, 0, 0, 0, 0, 0, 0, 0, 0, 0, 0, 0, 0, 0, 0, 0, 0, 1, 1, 0, 1], [1, 0, 1, 1, 1, 0, 1, 1, 0, 1, 1, 1, 1, 1, 0, 1, 1, 1, 1, 1, 0, 1, 1, 1, 1, 1, 0, 1, 1, 0, 1], [1, 0, 1, 1, 1, 0, 1, 1, 0, 1, 0, 0, 0, 1, 0, 1, 0, 0, 0, 1, 0, 1, 1, 1, 1, 1, 0, 1, 1, 0, 1], [1, 0, 1, 1, 1, 0, 1, 1, 0, 1, 0, 0, 0, 1, 0, 1, 0, 0, 0, 1, 0, 1, 1, 0, 0, 0, 0, 1, 1, 0, 1], [1, 0, 1, 1, 1, 0, 1, 1, 0, 1, 0, 0, 0, 1, 0, 1, 0, 0, 0, 1, 0, 1, 1, 0, 1, 1, 0, 1, 1, 0, 1], [1, 0, 0, 0, 0, 0, 0, 0, 0, 1, 0, 0, 0, 1, 0, 1, 0, 0, 0, 1, 0, 0, 0, 0, 1, 1, 0, 0, 0, 0, 1], [1, 1, 1, 1, 1, 1, 1, 1, 1, 1, 0, 0, 0, 1, 1, 1, 0, 0, 0, 1, 1, 1, 1, 1, 1, 1, 1, 1, 1, 1, 1]]\n"
     ]
    }
   ],
   "source": [
    "print(map_field)"
   ]
  },
  {
   "cell_type": "code",
   "execution_count": 32,
   "metadata": {},
   "outputs": [],
   "source": [
    "from pygame.locals import *\n",
    "import pygame as pg\n",
    "# import pygamebg as pygamebg\n",
    "pg.init()\n",
    "import random\n",
    "from time import sleep"
   ]
  },
  {
   "cell_type": "code",
   "execution_count": null,
   "metadata": {},
   "outputs": [],
   "source": [
    "screen = pg.display.set_mode((width*multi, height*multi))\n",
    "pg.display.set_caption('2-0-4-8')"
   ]
  },
  {
   "cell_type": "code",
   "execution_count": null,
   "metadata": {},
   "outputs": [],
   "source": [
    "bg = (205, 193, 180)\n",
    "\n",
    "# pygame.draw.rect(screen, (187, 173, 160),  (0, 400, 400, 40))\n",
    "circle_x, circle_y = 1, 1\n",
    "\n",
    "def draw_map_field():\n",
    "    global circle_x, circle_y\n",
    "    screen.fill(bg)\n",
    "    x_pos = 0\n",
    "    for x in map_field:\n",
    "            y_pos = 0\n",
    "            for y in x:\n",
    "                if y == 0:\n",
    "                    pass\n",
    "                elif y == 1:\n",
    "                    color = (0,0,0)\n",
    "                    pg.draw.rect(screen, (color),  (x_pos*multi, y_pos*multi, multi, multi))\n",
    "                elif y == 2:\n",
    "                    pg.draw.circle(screen, (255,0,0), (x_pos*multi+10, y_pos*multi+10), multi/2)\n",
    "                    circle_x = x_pos\n",
    "                    circle_y = y_pos\n",
    "                y_pos += 1\n",
    "            x_pos += 1"
   ]
  },
  {
   "cell_type": "code",
   "execution_count": null,
   "metadata": {},
   "outputs": [],
   "source": [
    "# pg.draw.circle(screen, 'red', (1*1.5*multi, 1*1.5*multi), multi)"
   ]
  },
  {
   "cell_type": "code",
   "execution_count": null,
   "metadata": {},
   "outputs": [],
   "source": []
  },
  {
   "cell_type": "code",
   "execution_count": null,
   "metadata": {},
   "outputs": [],
   "source": [
    "run = True\n",
    "\n",
    "\n",
    "\n",
    "\n",
    "def move_circle(delta_x, delta_y):\n",
    "    global circle_x, circle_y\n",
    "    global map_field\n",
    "    # print(circle_x, circle_y, delta_x, delta_y)\n",
    "    if map_field[(circle_x+delta_x)][(circle_y+delta_y)] == 0:\n",
    "        map_field[circle_x][circle_y] = 0\n",
    "        map_field[(circle_x+delta_x)][(circle_y+delta_y)] = 2\n",
    "        # circle_x = circle_x+delta_x\n",
    "        # circle_y = circle_y+delta_y\n",
    "        \n",
    "        \n",
    "    \n",
    "\n",
    "while run:\n",
    "    # pygame.time.delay(100)\n",
    "    draw_map_field()\n",
    "    # pg.draw.circle(screen, (255, 0, 0), (circle_x, circle_y), 10)\n",
    "    pg.display.update()\n",
    "    for event in pg.event.get():\n",
    "        if event.type == pg.QUIT:\n",
    "            run = False\n",
    "        # elif event.type == pg.KEYDOWN:\n",
    "        #     if event.key == pg.K_d or event.key == pg.K_RIGHT:\n",
    "        #         x+=1\n",
    "                \n",
    "\n",
    "        #     if event.key == pg.K_a or event.key == pg.K_LEFT:    \n",
    "        #         x-=1\n",
    "\n",
    "            \n",
    "        #     if event.key == pg.K_s or event.key == pg.K_DOWN:\n",
    "        #         y+=1\n",
    "\n",
    "        #     if event.key == pg.K_w or event.key == pg.K_UP:\n",
    "        #         y-=1\n",
    "        dist = 20\n",
    "        key = pg.key.get_pressed()\n",
    "        if key[pg.K_a] == True or key[pg.K_LEFT] == True:\n",
    "            move_circle(-1, 0)\n",
    "        elif key[pg.K_d] == True or key[pg.K_RIGHT]:\n",
    "            move_circle(+1, 0)\n",
    "        elif key[pg.K_w] == True or key[pg.K_UP]:\n",
    "            move_circle(0, -1)\n",
    "        elif key[pg.K_s] == True or key[pg.K_DOWN]:\n",
    "            move_circle(0, +1)\n",
    "\n",
    "            # if event.key == pg.K_r:\n",
    "            #     empty_field()\n",
    "\n",
    "pg.quit()"
   ]
  }
 ],
 "metadata": {
  "kernelspec": {
   "display_name": "Python 3",
   "language": "python",
   "name": "python3"
  },
  "language_info": {
   "codemirror_mode": {
    "name": "ipython",
    "version": 3
   },
   "file_extension": ".py",
   "mimetype": "text/x-python",
   "name": "python",
   "nbconvert_exporter": "python",
   "pygments_lexer": "ipython3",
   "version": "3.9.13"
  },
  "orig_nbformat": 4
 },
 "nbformat": 4,
 "nbformat_minor": 2
}
