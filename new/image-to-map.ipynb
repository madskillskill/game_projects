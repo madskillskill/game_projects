{
 "cells": [
  {
   "cell_type": "code",
   "execution_count": 1,
   "metadata": {},
   "outputs": [
    {
     "name": "stdout",
     "output_type": "stream",
     "text": [
      "pygame 2.5.2 (SDL 2.28.3, Python 3.9.13)\n",
      "Hello from the pygame community. https://www.pygame.org/contribute.html\n",
      "28 31\n"
     ]
    }
   ],
   "source": [
    "from PIL import Image\n",
    "import pygamebg\n",
    "\n",
    "filename = \"map_snake.png\"\n",
    "with Image.open(filename) as image:\n",
    "    width, height = image.size\n",
    "print(width, height)\n",
    "\n",
    "multi = 20"
   ]
  },
  {
   "cell_type": "code",
   "execution_count": 2,
   "metadata": {},
   "outputs": [
    {
     "name": "stdout",
     "output_type": "stream",
     "text": [
      "(255, 255, 255, 255)\n",
      "(0, 0, 0, 255)\n",
      "(255, 255, 255, 255)\n"
     ]
    }
   ],
   "source": [
    "im = Image.open(\"map_snake.png\")\n",
    "px = im.load()\n",
    "print (px[4, 4])\n",
    "px[4, 4] = (0, 0, 0)\n",
    "print (px[4, 4])\n",
    "coordinate = x, y = 20, 20\n",
    " \n",
    "# using getpixel method\n",
    "print (im.getpixel(coordinate));"
   ]
  },
  {
   "cell_type": "code",
   "execution_count": 3,
   "metadata": {},
   "outputs": [
    {
     "name": "stdout",
     "output_type": "stream",
     "text": [
      "1\n",
      "0\n"
     ]
    }
   ],
   "source": [
    "def get_bin(x,y):\n",
    "    pixel = im.getpixel((x,y))\n",
    "    if pixel == (255, 255, 255, 255):\n",
    "        return 0\n",
    "    elif pixel == (0, 0, 0, 255):\n",
    "        return 1\n",
    "    else: pass\n",
    "    \n",
    "\n",
    "print(get_bin(0,0))\n",
    "print(get_bin(1,1))\n",
    "\n",
    "map_field = []\n",
    "\n",
    "for x in range(width):\n",
    "        row = [0]*height\n",
    "        map_field.append(row)\n",
    "\n",
    "for k in range(width):\n",
    "    for j in range(height):\n",
    "        # print(k,j)\n",
    "        map_field[k][j] = get_bin(k,j)\n",
    "        \n",
    "map_field[1][1] = 2"
   ]
  },
  {
   "cell_type": "code",
   "execution_count": 4,
   "metadata": {},
   "outputs": [
    {
     "name": "stdout",
     "output_type": "stream",
     "text": [
      "[[1, 1, 1, 1, 1, 1, 1, 1, 1, 1, 1, 1, 1, 1, 1, 1, 1, 1, 1, 1, 1, 1, 1, 1, 1, 1, 1, 1, 1, 1, 1], [1, 2, 0, 0, 0, 0, 0, 0, 0, 0, 0, 0, 0, 0, 0, 0, 0, 0, 0, 0, 0, 0, 0, 0, 0, 0, 0, 0, 0, 0, 1], [1, 0, 0, 0, 0, 0, 0, 0, 0, 0, 0, 0, 0, 0, 0, 0, 0, 0, 0, 0, 0, 0, 0, 0, 0, 0, 0, 0, 0, 0, 1], [1, 0, 0, 0, 0, 0, 0, 0, 0, 0, 0, 0, 0, 0, 0, 0, 0, 0, 0, 0, 0, 0, 0, 0, 0, 0, 0, 0, 0, 0, 1], [1, 0, 0, 0, 1, 0, 0, 0, 0, 0, 0, 0, 0, 0, 0, 0, 0, 0, 0, 0, 0, 0, 0, 0, 0, 0, 0, 0, 0, 0, 1], [1, 0, 0, 0, 0, 0, 0, 0, 0, 0, 0, 0, 0, 0, 0, 0, 0, 0, 0, 0, 0, 0, 0, 0, 0, 0, 0, 0, 0, 0, 1], [1, 0, 0, 0, 0, 0, 0, 0, 0, 0, 0, 0, 0, 0, 0, 0, 0, 0, 0, 0, 0, 0, 0, 0, 0, 0, 0, 0, 0, 0, 1], [1, 0, 0, 0, 0, 0, 0, 0, 0, 0, 0, 0, 0, 0, 0, 0, 0, 0, 0, 0, 0, 0, 0, 0, 0, 0, 0, 0, 0, 0, 1], [1, 0, 0, 0, 0, 0, 0, 0, 0, 0, 0, 0, 0, 0, 0, 0, 0, 0, 0, 0, 0, 0, 0, 0, 0, 0, 0, 0, 0, 0, 1], [1, 0, 0, 0, 0, 0, 0, 0, 0, 0, 0, 0, 0, 0, 0, 0, 0, 0, 0, 0, 0, 0, 0, 0, 0, 0, 0, 0, 0, 0, 1], [1, 0, 0, 0, 0, 0, 0, 0, 0, 0, 0, 0, 0, 0, 0, 0, 0, 0, 0, 0, 0, 0, 0, 0, 0, 0, 0, 0, 0, 0, 1], [1, 0, 0, 0, 0, 0, 0, 0, 0, 0, 0, 0, 0, 0, 0, 0, 0, 0, 0, 0, 0, 0, 0, 0, 0, 0, 0, 0, 0, 0, 1], [1, 0, 0, 0, 0, 0, 0, 0, 0, 0, 0, 0, 0, 0, 0, 0, 0, 0, 0, 0, 0, 0, 0, 0, 0, 0, 0, 0, 0, 0, 1], [1, 0, 0, 0, 0, 0, 0, 0, 0, 0, 0, 0, 0, 0, 0, 0, 0, 0, 0, 0, 0, 0, 0, 0, 0, 0, 0, 0, 0, 0, 1], [1, 0, 0, 0, 0, 0, 0, 0, 0, 0, 0, 0, 0, 0, 0, 0, 0, 0, 0, 0, 0, 0, 0, 0, 0, 0, 0, 0, 0, 0, 1], [1, 0, 0, 0, 0, 0, 0, 0, 0, 0, 0, 0, 0, 0, 0, 0, 0, 0, 0, 0, 0, 0, 0, 0, 0, 0, 0, 0, 0, 0, 1], [1, 0, 0, 0, 0, 0, 0, 0, 0, 0, 0, 0, 0, 0, 0, 0, 0, 0, 0, 0, 0, 0, 0, 0, 0, 0, 0, 0, 0, 0, 1], [1, 0, 0, 0, 0, 0, 0, 0, 0, 0, 0, 0, 0, 0, 0, 0, 0, 0, 0, 0, 0, 0, 0, 0, 0, 0, 0, 0, 0, 0, 1], [1, 0, 0, 0, 0, 0, 0, 0, 0, 0, 0, 0, 0, 0, 0, 0, 0, 0, 0, 0, 0, 0, 0, 0, 0, 0, 0, 0, 0, 0, 1], [1, 0, 0, 0, 0, 0, 0, 0, 0, 0, 0, 0, 0, 0, 0, 0, 0, 0, 0, 0, 0, 0, 0, 0, 0, 0, 0, 0, 0, 0, 1], [1, 0, 0, 0, 0, 0, 0, 0, 0, 0, 0, 0, 0, 0, 0, 0, 0, 0, 0, 0, 0, 0, 0, 0, 0, 0, 0, 0, 0, 0, 1], [1, 0, 0, 0, 0, 0, 0, 0, 0, 0, 0, 0, 0, 0, 0, 0, 0, 0, 0, 0, 0, 0, 0, 0, 0, 0, 0, 0, 0, 0, 1], [1, 0, 0, 0, 0, 0, 0, 0, 0, 0, 0, 0, 0, 0, 0, 0, 0, 0, 0, 0, 0, 0, 0, 0, 0, 0, 0, 0, 0, 0, 1], [1, 0, 0, 0, 0, 0, 0, 0, 0, 0, 0, 0, 0, 0, 0, 0, 0, 0, 0, 0, 0, 0, 0, 0, 0, 0, 0, 0, 0, 0, 1], [1, 0, 0, 0, 0, 0, 0, 0, 0, 0, 0, 0, 0, 0, 0, 0, 0, 0, 0, 0, 0, 0, 0, 0, 0, 0, 0, 0, 0, 0, 1], [1, 0, 0, 0, 0, 0, 0, 0, 0, 0, 0, 0, 0, 0, 0, 0, 0, 0, 0, 0, 0, 0, 0, 0, 0, 0, 0, 0, 0, 0, 1], [1, 0, 0, 0, 0, 0, 0, 0, 0, 0, 0, 0, 0, 0, 0, 0, 0, 0, 0, 0, 0, 0, 0, 0, 0, 0, 0, 0, 0, 0, 1], [1, 1, 1, 1, 1, 1, 1, 1, 1, 1, 1, 1, 1, 1, 1, 1, 1, 1, 1, 1, 1, 1, 1, 1, 1, 1, 1, 1, 1, 1, 1]]\n"
     ]
    }
   ],
   "source": [
    "print(map_field)"
   ]
  },
  {
   "cell_type": "code",
   "execution_count": 5,
   "metadata": {},
   "outputs": [],
   "source": [
    "from pygame.locals import *\n",
    "import pygame as pg\n",
    "# import pygamebg as pygamebg\n",
    "pg.init()\n",
    "import random\n",
    "from time import sleep"
   ]
  },
  {
   "cell_type": "code",
   "execution_count": 6,
   "metadata": {},
   "outputs": [],
   "source": [
    "screen = pg.display.set_mode((width*multi, height*multi))\n",
    "pg.display.set_caption('w i n d o w')"
   ]
  },
  {
   "cell_type": "code",
   "execution_count": 7,
   "metadata": {},
   "outputs": [],
   "source": [
    "bg = (205, 193, 180)\n",
    "\n",
    "# pygame.draw.rect(screen, (187, 173, 160),  (0, 400, 400, 40))\n",
    "circle_x, circle_y = width//2, height//2\n",
    "\n",
    "def draw_map_field():\n",
    "    global circle_x, circle_y\n",
    "    screen.fill(bg)\n",
    "    x_pos = 0\n",
    "    for x in map_field:\n",
    "            y_pos = 0\n",
    "            for y in x:\n",
    "                if y == 0:\n",
    "                    pass\n",
    "                elif y == 1:\n",
    "                    color = (0,0,0)\n",
    "                    pg.draw.rect(screen, (color),  (x_pos*multi, y_pos*multi, multi, multi))\n",
    "                elif y == 2:\n",
    "                    pg.draw.circle(screen, (255,0,0), (x_pos*multi+10, y_pos*multi+10), multi/2)\n",
    "                    circle_x = x_pos\n",
    "                    circle_y = y_pos\n",
    "                y_pos += 1\n",
    "            x_pos += 1"
   ]
  },
  {
   "cell_type": "code",
   "execution_count": 8,
   "metadata": {},
   "outputs": [],
   "source": [
    "# pg.draw.circle(screen, 'red', (1*1.5*multi, 1*1.5*multi), multi)"
   ]
  },
  {
   "cell_type": "code",
   "execution_count": null,
   "metadata": {},
   "outputs": [],
   "source": []
  },
  {
   "cell_type": "code",
   "execution_count": 9,
   "metadata": {},
   "outputs": [
    {
     "ename": "AttributeError",
     "evalue": "'pygame.event.Event' object has no attribute 'key'",
     "output_type": "error",
     "traceback": [
      "\u001b[1;31m---------------------------------------------------------------------------\u001b[0m",
      "\u001b[1;31mAttributeError\u001b[0m                            Traceback (most recent call last)",
      "\u001b[1;32mc:\\SF\\game_projects\\game_projects\\new\\image-to-map.ipynb Cell 10\u001b[0m in \u001b[0;36m<cell line: 81>\u001b[1;34m()\u001b[0m\n\u001b[0;32m     <a href='vscode-notebook-cell:/c%3A/SF/game_projects/game_projects/new/image-to-map.ipynb#X12sZmlsZQ%3D%3D?line=73'>74</a>\u001b[0m             delta_x, delta_y \u001b[39m=\u001b[39m \u001b[39m0\u001b[39m, \u001b[39m-\u001b[39m\u001b[39m1\u001b[39m\n\u001b[0;32m     <a href='vscode-notebook-cell:/c%3A/SF/game_projects/game_projects/new/image-to-map.ipynb#X12sZmlsZQ%3D%3D?line=76'>77</a>\u001b[0m             \u001b[39m# if event.key == pg.K_r:\u001b[39;00m\n\u001b[0;32m     <a href='vscode-notebook-cell:/c%3A/SF/game_projects/game_projects/new/image-to-map.ipynb#X12sZmlsZQ%3D%3D?line=77'>78</a>\u001b[0m             \u001b[39m#     empty_field()\u001b[39;00m\n\u001b[1;32m---> <a href='vscode-notebook-cell:/c%3A/SF/game_projects/game_projects/new/image-to-map.ipynb#X12sZmlsZQ%3D%3D?line=80'>81</a>\u001b[0m pygamebg\u001b[39m.\u001b[39;49mframe_loop(\u001b[39m4\u001b[39;49m, new_frame)\n",
      "File \u001b[1;32mc:\\Python\\Python39\\lib\\site-packages\\pygamebg.py:25\u001b[0m, in \u001b[0;36mframe_loop\u001b[1;34m(rate, update_frame, handle_event)\u001b[0m\n\u001b[0;32m     23\u001b[0m         \u001b[39mreturn\u001b[39;00m\n\u001b[0;32m     24\u001b[0m     _call_event_handler(handle_event, event)\n\u001b[1;32m---> 25\u001b[0m update_frame()\n\u001b[0;32m     26\u001b[0m pg\u001b[39m.\u001b[39mdisplay\u001b[39m.\u001b[39mupdate()\n\u001b[0;32m     27\u001b[0m clock\u001b[39m.\u001b[39mtick(rate)\n",
      "\u001b[1;32mc:\\SF\\game_projects\\game_projects\\new\\image-to-map.ipynb Cell 10\u001b[0m in \u001b[0;36mnew_frame\u001b[1;34m()\u001b[0m\n\u001b[0;32m     <a href='vscode-notebook-cell:/c%3A/SF/game_projects/game_projects/new/image-to-map.ipynb#X12sZmlsZQ%3D%3D?line=46'>47</a>\u001b[0m key \u001b[39m=\u001b[39m pg\u001b[39m.\u001b[39mkey\u001b[39m.\u001b[39mget_pressed()\n\u001b[0;32m     <a href='vscode-notebook-cell:/c%3A/SF/game_projects/game_projects/new/image-to-map.ipynb#X12sZmlsZQ%3D%3D?line=47'>48</a>\u001b[0m \u001b[39m# if key[pg.K_a] == True or key[pg.K_LEFT] == True:\u001b[39;00m\n\u001b[0;32m     <a href='vscode-notebook-cell:/c%3A/SF/game_projects/game_projects/new/image-to-map.ipynb#X12sZmlsZQ%3D%3D?line=48'>49</a>\u001b[0m \u001b[39m#     delta_x, delta_y = -1, 0\u001b[39;00m\n\u001b[0;32m     <a href='vscode-notebook-cell:/c%3A/SF/game_projects/game_projects/new/image-to-map.ipynb#X12sZmlsZQ%3D%3D?line=49'>50</a>\u001b[0m \u001b[39m# elif key[pg.K_d] == True or key[pg.K_RIGHT]:\u001b[39;00m\n\u001b[1;32m   (...)\u001b[0m\n\u001b[0;32m     <a href='vscode-notebook-cell:/c%3A/SF/game_projects/game_projects/new/image-to-map.ipynb#X12sZmlsZQ%3D%3D?line=56'>57</a>\u001b[0m \n\u001b[0;32m     <a href='vscode-notebook-cell:/c%3A/SF/game_projects/game_projects/new/image-to-map.ipynb#X12sZmlsZQ%3D%3D?line=57'>58</a>\u001b[0m \u001b[39m# if event.type == pg.KEYDOWN:\u001b[39;00m\n\u001b[1;32m---> <a href='vscode-notebook-cell:/c%3A/SF/game_projects/game_projects/new/image-to-map.ipynb#X12sZmlsZQ%3D%3D?line=60'>61</a>\u001b[0m \u001b[39mif\u001b[39;00m event\u001b[39m.\u001b[39;49mkey \u001b[39m==\u001b[39m event\u001b[39m.\u001b[39mK_d \u001b[39mor\u001b[39;00m event\u001b[39m.\u001b[39mkey \u001b[39m==\u001b[39m event\u001b[39m.\u001b[39mK_RIGHT:\n\u001b[0;32m     <a href='vscode-notebook-cell:/c%3A/SF/game_projects/game_projects/new/image-to-map.ipynb#X12sZmlsZQ%3D%3D?line=61'>62</a>\u001b[0m     delta_x, delta_y \u001b[39m=\u001b[39m \u001b[39m+\u001b[39m\u001b[39m1\u001b[39m, \u001b[39m0\u001b[39m\n\u001b[0;32m     <a href='vscode-notebook-cell:/c%3A/SF/game_projects/game_projects/new/image-to-map.ipynb#X12sZmlsZQ%3D%3D?line=64'>65</a>\u001b[0m \u001b[39mif\u001b[39;00m event\u001b[39m.\u001b[39mkey \u001b[39m==\u001b[39m event\u001b[39m.\u001b[39mK_a \u001b[39mor\u001b[39;00m event\u001b[39m.\u001b[39mkey \u001b[39m==\u001b[39m event\u001b[39m.\u001b[39mK_LEFT:\n",
      "\u001b[1;31mAttributeError\u001b[0m: 'pygame.event.Event' object has no attribute 'key'"
     ]
    },
    {
     "ename": "",
     "evalue": "",
     "output_type": "error",
     "traceback": [
      "\u001b[1;31mThe Kernel crashed while executing code in the the current cell or a previous cell. Please review the code in the cell(s) to identify a possible cause of the failure. Click <a href='https://aka.ms/vscodeJupyterKernelCrash'>here</a> for more info. View Jupyter <a href='command:jupyter.viewOutput'>log</a> for further details."
     ]
    }
   ],
   "source": [
    "run = True\n",
    "\n",
    "\n",
    "delta_x, delta_y = 0, 0\n",
    "\n",
    "def move_circle():\n",
    "    global circle_x, circle_y\n",
    "    global delta_x, delta_y\n",
    "    global map_field\n",
    "    # print(circle_x, circle_y, delta_x, delta_y)\n",
    "    if map_field[(circle_x+delta_x)][(circle_y+delta_y)] == 0:\n",
    "        map_field[circle_x][circle_y] = 0\n",
    "        map_field[(circle_x+delta_x)][(circle_y+delta_y)] = 2\n",
    "        # circle_x = circle_x+delta_x\n",
    "        # circle_y = circle_y+delta_y\n",
    "        # sleep(0.2)\n",
    "    # if\n",
    "          \n",
    "\n",
    "def new_frame():\n",
    "    # pygame.time.delay(100)\n",
    "    global delta_x\n",
    "    global delta_y\n",
    "    move_circle()\n",
    "    draw_map_field()\n",
    "    # pg.draw.circle(screen, (255, 0, 0), (circle_x, circle_y), 10)\n",
    "    \n",
    "    pg.display.update()\n",
    "    for event in pg.event.get():\n",
    "        if event.type == pg.QUIT:\n",
    "            run = False\n",
    "        # elif event.type == pg.KEYDOWN:\n",
    "        #     if event.key == pg.K_d or event.key == pg.K_RIGHT:\n",
    "        #         x+=1\n",
    "                \n",
    "\n",
    "        #     if event.key == pg.K_a or event.key == pg.K_LEFT:    \n",
    "        #         x-=1\n",
    "\n",
    "            \n",
    "        #     if event.key == pg.K_s or event.key == pg.K_DOWN:\n",
    "        #         y+=1\n",
    "\n",
    "        #     if event.key == pg.K_w or event.key == pg.K_UP:\n",
    "        #         y-=1\n",
    "        # dist = 20\n",
    "        \n",
    "        \n",
    "        key = pg.key.get_pressed()\n",
    "        # if key[pg.K_a] == True or key[pg.K_LEFT] == True:\n",
    "        #     delta_x, delta_y = -1, 0\n",
    "        # elif key[pg.K_d] == True or key[pg.K_RIGHT]:\n",
    "        #     delta_x, delta_y = -1, 0\n",
    "        # elif key[pg.K_w] == True or key[pg.K_UP]:\n",
    "        #    delta_x, delta_y = 0, -1\n",
    "        # elif key[pg.K_s] == True or key[pg.K_DOWN]:\n",
    "        #     delta_x, delta_y = 0, +1\n",
    "        \n",
    "        \n",
    "        # if event.type == pg.KEYDOWN:\n",
    "                \n",
    "                \n",
    "        # if event.key == pg.K_d or event.key == pg.K_RIGHT:\n",
    "        #     delta_x, delta_y = +1, 0\n",
    "            \n",
    "\n",
    "        # if event.key == pg.K_a or event.key == pg.K_LEFT:\n",
    "        #     delta_x, delta_y = -1, 0\n",
    "    \n",
    "\n",
    "        \n",
    "        # if event.key == pg.K_s or event.key == pg.K_DOWN:\n",
    "        #     delta_x, delta_y = 0, +1\n",
    "\n",
    "        # if event.key == pg.K_w or event.key == pg.K_UP:\n",
    "        #     delta_x, delta_y = 0, -1\n",
    "                    \n",
    "            \n",
    "            # if event.key == pg.K_r:\n",
    "            #     empty_field()\n",
    "    \n",
    "\n",
    "pygamebg.frame_loop(4, new_frame)\n",
    "# pg.quit()"
   ]
  }
 ],
 "metadata": {
  "kernelspec": {
   "display_name": "Python 3",
   "language": "python",
   "name": "python3"
  },
  "language_info": {
   "codemirror_mode": {
    "name": "ipython",
    "version": 3
   },
   "file_extension": ".py",
   "mimetype": "text/x-python",
   "name": "python",
   "nbconvert_exporter": "python",
   "pygments_lexer": "ipython3",
   "version": "3.9.13"
  },
  "orig_nbformat": 4
 },
 "nbformat": 4,
 "nbformat_minor": 2
}
