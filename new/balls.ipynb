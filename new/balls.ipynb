{
 "cells": [
  {
   "cell_type": "code",
   "execution_count": 1,
   "metadata": {},
   "outputs": [
    {
     "name": "stdout",
     "output_type": "stream",
     "text": [
      "pygame 2.5.2 (SDL 2.28.2, Python 3.10.12)\n",
      "Hello from the pygame community. https://www.pygame.org/contribute.html\n"
     ]
    }
   ],
   "source": [
    "import random\n",
    "import pygame as pg\n",
    "import pygamebg as pygamebg\n",
    "(width, height) = (500, 300)\n",
    "canvas = pygamebg.open_window(width, height, \"Balls\")\n",
    "\n",
    "colors = (\n",
    "    pg.Color(\"red\"), pg.Color(\"yellow\"), pg.Color(\"blue\"),\n",
    "    pg.Color(\"cyan\"), pg.Color(\"green\"), pg.Color(\"purple\")\n",
    ")\n",
    "\n",
    "# Make a list of 10 ball. The ball is determined by \n",
    "# position (x, y), displacement (dx, dy), size (r) and color.\n",
    "balls = []\n",
    "for _ in range(10):\n",
    "    r = random.randint(10, 30)\n",
    "    x = random.randint(r, width - r)\n",
    "    y = random.randint(r, height - r)\n",
    "    color = random.choice(colors)\n",
    "    dx, dy = 0, 0\n",
    "    while dx == 0 and dy == 0: # we don't want the balls that stand still\n",
    "        dx = random.randint(-8, 8)\n",
    "        dy = random.randint(-8, 8)\n",
    "    balls.append((x, y, dx, dy, r, color))\n",
    "    \n",
    "def new_frame():\n",
    "    global balls\n",
    "    for i in range(10):\n",
    "        x, y, dx, dy, r, color = balls[i]\n",
    "        (x, y) = (x + dx, y + dy)\n",
    "        if x - r < 0 or x + r > width: \n",
    "            dx = -dx\n",
    "        if y - r < 0 or y + r > height: \n",
    "            dy = -dy\n",
    "        balls[i] = (x, y, dx, dy, r, color)\n",
    "        \n",
    "    canvas.fill(pg.Color(\"darkgray\"))\n",
    "    for x, y, dx, dy, r, color in balls:\n",
    "        pg.draw.circle(canvas, color, (x, y), r)\n",
    "\n",
    "pygamebg.frame_loop(50, new_frame)"
   ]
  }
 ],
 "metadata": {
  "kernelspec": {
   "display_name": "Python 3",
   "language": "python",
   "name": "python3"
  },
  "language_info": {
   "codemirror_mode": {
    "name": "ipython",
    "version": 3
   },
   "file_extension": ".py",
   "mimetype": "text/x-python",
   "name": "python",
   "nbconvert_exporter": "python",
   "pygments_lexer": "ipython3",
   "version": "3.10.12"
  }
 },
 "nbformat": 4,
 "nbformat_minor": 2
}
