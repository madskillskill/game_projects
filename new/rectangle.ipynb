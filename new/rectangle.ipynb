{
 "cells": [
  {
   "cell_type": "code",
   "execution_count": 13,
   "metadata": {},
   "outputs": [],
   "source": [
    "import pygame\n",
    "\n",
    "pygame.init()\n",
    "\n",
    "\n",
    "SCREEN_WIDTH = 800\n",
    "SCREEN_HEIGHT = 600\n",
    "\n",
    "screen = pygame.display.set_mode((SCREEN_WIDTH, SCREEN_HEIGHT))\n",
    "\n",
    "player = pygame.Rect((300,250, 50, 50))\n",
    "\n",
    "run = True\n",
    "\n",
    "while run:\n",
    "    \n",
    "    screen.fill((0,0,0))\n",
    "    \n",
    "    pygame.draw.rect(screen, (255, 0, 0), player)\n",
    "    key = pygame.key.get_pressed()\n",
    "    if key[pygame.K_a] == True:\n",
    "        player.move_ip(-1,0)\n",
    "    elif key[pygame.K_d] == True:\n",
    "        player.move_ip(1,0)\n",
    "    elif key[pygame.K_w] == True:\n",
    "        player.move_ip(0,-1)\n",
    "    elif key[pygame.K_s] == True:\n",
    "        player.move_ip(0,1)\n",
    "    \n",
    "    for event in pygame.event.get():\n",
    "        if event.type == pygame.QUIT:\n",
    "            run = False\n",
    "    pygame.display.update()\n",
    "pygame.quit()"
   ]
  }
 ],
 "metadata": {
  "kernelspec": {
   "display_name": "Python 3",
   "language": "python",
   "name": "python3"
  },
  "language_info": {
   "codemirror_mode": {
    "name": "ipython",
    "version": 3
   },
   "file_extension": ".py",
   "mimetype": "text/x-python",
   "name": "python",
   "nbconvert_exporter": "python",
   "pygments_lexer": "ipython3",
   "version": "3.9.13"
  },
  "orig_nbformat": 4
 },
 "nbformat": 4,
 "nbformat_minor": 2
}
