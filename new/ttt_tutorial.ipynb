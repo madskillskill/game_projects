{
 "cells": [
  {
   "cell_type": "code",
   "execution_count": 17,
   "metadata": {},
   "outputs": [
    {
     "data": {
      "text/plain": [
       "(5, 0)"
      ]
     },
     "execution_count": 17,
     "metadata": {},
     "output_type": "execute_result"
    }
   ],
   "source": [
    "import pygame\n",
    "from pygame.locals import *\n",
    "import time\n",
    "\n",
    "pygame.init()"
   ]
  },
  {
   "cell_type": "code",
   "execution_count": 18,
   "metadata": {},
   "outputs": [],
   "source": [
    "screen_width = 300\n",
    "screen_height = 300\n",
    "\n",
    "screen = pygame.display.set_mode((screen_width, screen_height))\n",
    "pygame.display.set_caption('T-T-T')\n",
    "\n",
    "line_width = 6\n",
    "clicked = False\n",
    "pos = []\n",
    "player = 1\n",
    "\n",
    "green = (0, 255, 0)\n",
    "red = (255, 0, 0)"
   ]
  },
  {
   "cell_type": "code",
   "execution_count": 19,
   "metadata": {},
   "outputs": [],
   "source": [
    "def draw_grid():\n",
    "    bg = (255, 255, 200)\n",
    "    grid = (50, 50, 50)\n",
    "    screen.fill(bg)\n",
    "    for x in range(1,3):\n",
    "        pygame.draw.line(screen, grid, (0, x *100), (screen_width, x * 100), line_width)\n",
    "        pygame.draw.line(screen, grid, (x * 100, 0), (x * 100, screen_height), line_width)"
   ]
  },
  {
   "cell_type": "code",
   "execution_count": 20,
   "metadata": {},
   "outputs": [
    {
     "name": "stdout",
     "output_type": "stream",
     "text": [
      "[[0, 0, 0], [0, 0, 0], [0, 0, 0]]\n"
     ]
    }
   ],
   "source": [
    "markers = []\n",
    "\n",
    "for x in range(3):\n",
    "    row = [0]*3\n",
    "    markers.append(row)\n",
    "\n",
    "print(markers)"
   ]
  },
  {
   "cell_type": "code",
   "execution_count": 21,
   "metadata": {},
   "outputs": [],
   "source": [
    "def draw_markers():\n",
    "    x_pos = 0\n",
    "    for x in markers:\n",
    "        y_pos = 0\n",
    "        for y in x:\n",
    "            if y == 1:\n",
    "                pygame.draw.line(screen, green, (x_pos * 100 + 15, y_pos * 100 + 15), (x_pos * 100 + 85, y_pos * 100 + 85), line_width)\n",
    "                pygame.draw.line(screen, green, (x_pos * 100 + 15, y_pos * 100 + 85), (x_pos * 100 + 85, y_pos * 100 + 15), line_width)\n",
    "            if y == -1:\n",
    "                pygame.draw.circle(screen, red, (x_pos * 100 + 50, y_pos * 100 +50), 38, line_width)\n",
    "            y_pos += 1\n",
    "        x_pos += 1"
   ]
  },
  {
   "cell_type": "code",
   "execution_count": 22,
   "metadata": {},
   "outputs": [],
   "source": [
    "def check_full():\n",
    "    total = 1\n",
    "    for x in markers:\n",
    "        for y in x:\n",
    "            total *= y\n",
    "    if total != 0:\n",
    "        time.sleep(3)\n",
    "        pygame.quit()\n",
    "    else:\n",
    "        pass"
   ]
  },
  {
   "cell_type": "code",
   "execution_count": 23,
   "metadata": {},
   "outputs": [],
   "source": [
    "def check_winner():\n",
    "    checker = 0\n",
    "    for x in markers:\n",
    "        sum = 0\n",
    "        for y in x:\n",
    "            sum += y\n",
    "        if abs(sum) == 3:\n",
    "            time.sleep(3)\n",
    "            pygame.quit()\n"
   ]
  },
  {
   "cell_type": "code",
   "execution_count": 24,
   "metadata": {},
   "outputs": [
    {
     "ename": "error",
     "evalue": "display Surface quit",
     "output_type": "error",
     "traceback": [
      "\u001b[1;31m---------------------------------------------------------------------------\u001b[0m",
      "\u001b[1;31merror\u001b[0m                                     Traceback (most recent call last)",
      "\u001b[1;32mc:\\SF\\game_projects\\game_projects\\new\\ttt_tutorial.ipynb Cell 8\u001b[0m in \u001b[0;36m<cell line: 3>\u001b[1;34m()\u001b[0m\n\u001b[0;32m      <a href='vscode-notebook-cell:/c%3A/SF/game_projects/game_projects/new/ttt_tutorial.ipynb#W2sZmlsZQ%3D%3D?line=0'>1</a>\u001b[0m run \u001b[39m=\u001b[39m \u001b[39mTrue\u001b[39;00m\n\u001b[0;32m      <a href='vscode-notebook-cell:/c%3A/SF/game_projects/game_projects/new/ttt_tutorial.ipynb#W2sZmlsZQ%3D%3D?line=2'>3</a>\u001b[0m \u001b[39mwhile\u001b[39;00m run:\n\u001b[1;32m----> <a href='vscode-notebook-cell:/c%3A/SF/game_projects/game_projects/new/ttt_tutorial.ipynb#W2sZmlsZQ%3D%3D?line=4'>5</a>\u001b[0m     draw_grid()\n\u001b[0;32m      <a href='vscode-notebook-cell:/c%3A/SF/game_projects/game_projects/new/ttt_tutorial.ipynb#W2sZmlsZQ%3D%3D?line=5'>6</a>\u001b[0m     draw_markers()\n\u001b[0;32m      <a href='vscode-notebook-cell:/c%3A/SF/game_projects/game_projects/new/ttt_tutorial.ipynb#W2sZmlsZQ%3D%3D?line=7'>8</a>\u001b[0m     \u001b[39mfor\u001b[39;00m event \u001b[39min\u001b[39;00m pygame\u001b[39m.\u001b[39mevent\u001b[39m.\u001b[39mget():\n",
      "\u001b[1;32mc:\\SF\\game_projects\\game_projects\\new\\ttt_tutorial.ipynb Cell 8\u001b[0m in \u001b[0;36mdraw_grid\u001b[1;34m()\u001b[0m\n\u001b[0;32m      <a href='vscode-notebook-cell:/c%3A/SF/game_projects/game_projects/new/ttt_tutorial.ipynb#W2sZmlsZQ%3D%3D?line=1'>2</a>\u001b[0m bg \u001b[39m=\u001b[39m (\u001b[39m255\u001b[39m, \u001b[39m255\u001b[39m, \u001b[39m200\u001b[39m)\n\u001b[0;32m      <a href='vscode-notebook-cell:/c%3A/SF/game_projects/game_projects/new/ttt_tutorial.ipynb#W2sZmlsZQ%3D%3D?line=2'>3</a>\u001b[0m grid \u001b[39m=\u001b[39m (\u001b[39m50\u001b[39m, \u001b[39m50\u001b[39m, \u001b[39m50\u001b[39m)\n\u001b[1;32m----> <a href='vscode-notebook-cell:/c%3A/SF/game_projects/game_projects/new/ttt_tutorial.ipynb#W2sZmlsZQ%3D%3D?line=3'>4</a>\u001b[0m screen\u001b[39m.\u001b[39;49mfill(bg)\n\u001b[0;32m      <a href='vscode-notebook-cell:/c%3A/SF/game_projects/game_projects/new/ttt_tutorial.ipynb#W2sZmlsZQ%3D%3D?line=4'>5</a>\u001b[0m \u001b[39mfor\u001b[39;00m x \u001b[39min\u001b[39;00m \u001b[39mrange\u001b[39m(\u001b[39m1\u001b[39m,\u001b[39m3\u001b[39m):\n\u001b[0;32m      <a href='vscode-notebook-cell:/c%3A/SF/game_projects/game_projects/new/ttt_tutorial.ipynb#W2sZmlsZQ%3D%3D?line=5'>6</a>\u001b[0m     pygame\u001b[39m.\u001b[39mdraw\u001b[39m.\u001b[39mline(screen, grid, (\u001b[39m0\u001b[39m, x \u001b[39m*\u001b[39m\u001b[39m100\u001b[39m), (screen_width, x \u001b[39m*\u001b[39m \u001b[39m100\u001b[39m), line_width)\n",
      "\u001b[1;31merror\u001b[0m: display Surface quit"
     ]
    }
   ],
   "source": [
    "run = True\n",
    "\n",
    "while run:\n",
    "\n",
    "    draw_grid()\n",
    "    draw_markers()\n",
    "    \n",
    "    for event in pygame.event.get():\n",
    "        if event.type == pygame.QUIT:\n",
    "            run = False\n",
    "        if event.type == pygame.MOUSEBUTTONDOWN and clicked == False:\n",
    "            clicked = True\n",
    "        if event.type == MOUSEBUTTONUP and clicked == True:\n",
    "            clicked = False\n",
    "            pos = pygame.mouse.get_pos()\n",
    "            cell_x = pos[0]\n",
    "            cell_y = pos[1]\n",
    "            if markers[cell_x//100][cell_y//100] == 0:\n",
    "                markers[cell_x//100][cell_y//100] = player\n",
    "                player *= -1\n",
    "        \n",
    "    pygame.display.update()\n",
    "    check_full()\n",
    "    check_winner()\n",
    "\n",
    "pygame.quit()"
   ]
  },
  {
   "cell_type": "code",
   "execution_count": null,
   "metadata": {},
   "outputs": [
    {
     "name": "stdout",
     "output_type": "stream",
     "text": [
      "[1, 1, -1, -1, -1, 1, 1, -1, 1]\n"
     ]
    }
   ],
   "source": [
    "print(markers[0] + markers[1] + markers[2])"
   ]
  }
 ],
 "metadata": {
  "kernelspec": {
   "display_name": "Python 3",
   "language": "python",
   "name": "python3"
  },
  "language_info": {
   "codemirror_mode": {
    "name": "ipython",
    "version": 3
   },
   "file_extension": ".py",
   "mimetype": "text/x-python",
   "name": "python",
   "nbconvert_exporter": "python",
   "pygments_lexer": "ipython3",
   "version": "3.9.13"
  },
  "orig_nbformat": 4
 },
 "nbformat": 4,
 "nbformat_minor": 2
}
