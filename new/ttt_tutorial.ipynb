{
 "cells": [
  {
   "cell_type": "code",
   "execution_count": null,
   "metadata": {
    "metadata": {}
   },
   "outputs": [],
   "source": [
    "import pygame\n",
    "from pygame.locals import *\n",
    "import time\n",
    "\n",
    "pygame.init()"
   ]
  },
  {
   "cell_type": "code",
   "execution_count": null,
   "metadata": {
    "metadata": {}
   },
   "outputs": [],
   "source": [
    "screen_width = 300\n",
    "screen_height = 300\n",
    "\n",
    "screen = pygame.display.set_mode((screen_width, screen_height))\n",
    "pygame.display.set_caption('T-T-T')\n",
    "\n",
    "line_width = 6\n",
    "clicked = False\n",
    "pos = []\n",
    "player = 1\n",
    "\n",
    "green = (0, 255, 0)\n",
    "red = (255, 0, 0)\n",
    "blue = (0, 0, 255)\n",
    "\n",
    "winner = 0\n",
    "game_over = False\n",
    "\n",
    "font = pygame.font.SysFont(None, 40)\n",
    "\n",
    "again_rect = Rect(screen_width // 2 - 80, screen_height // 2, 160, 50)"
   ]
  },
  {
   "cell_type": "code",
   "execution_count": null,
   "metadata": {
    "metadata": {}
   },
   "outputs": [],
   "source": [
    "def draw_grid():\n",
    "    bg = (255, 255, 200)\n",
    "    grid = (50, 50, 50)\n",
    "    screen.fill(bg)\n",
    "    for x in range(1,3):\n",
    "        pygame.draw.line(screen, grid, (0, x *100), (screen_width, x * 100), line_width)\n",
    "        pygame.draw.line(screen, grid, (x * 100, 0), (x * 100, screen_height), line_width)"
   ]
  },
  {
   "cell_type": "code",
   "execution_count": null,
   "metadata": {
    "metadata": {}
   },
   "outputs": [],
   "source": [
    "markers = []\n",
    "\n",
    "for x in range(3):\n",
    "    row = [0]*3\n",
    "    markers.append(row)\n",
    "\n",
    "print(markers)"
   ]
  },
  {
   "cell_type": "code",
   "execution_count": null,
   "metadata": {
    "metadata": {}
   },
   "outputs": [],
   "source": [
    "def draw_markers():\n",
    "    x_pos = 0\n",
    "    for x in markers:\n",
    "        y_pos = 0\n",
    "        for y in x:\n",
    "            if y == 1:\n",
    "                pygame.draw.line(screen, green, (x_pos * 100 + 15, y_pos * 100 + 15), (x_pos * 100 + 85, y_pos * 100 + 85), line_width)\n",
    "                pygame.draw.line(screen, green, (x_pos * 100 + 15, y_pos * 100 + 85), (x_pos * 100 + 85, y_pos * 100 + 15), line_width)\n",
    "            if y == -1:\n",
    "                pygame.draw.circle(screen, red, (x_pos * 100 + 50, y_pos * 100 +50), 38, line_width)\n",
    "            y_pos += 1\n",
    "        x_pos += 1"
   ]
  },
  {
   "cell_type": "code",
   "execution_count": null,
   "metadata": {
    "metadata": {}
   },
   "outputs": [],
   "source": [
    "def check_full():\n",
    "    total = 1\n",
    "    for x in markers:\n",
    "        for y in x:\n",
    "            total *= y\n",
    "    if total != 0:\n",
    "        return(True)\n",
    "    else:\n",
    "        return(False)"
   ]
  },
  {
   "cell_type": "code",
   "execution_count": null,
   "metadata": {
    "metadata": {}
   },
   "outputs": [],
   "source": [
    "def check_winner():\n",
    "\n",
    "    \n",
    "    global winner\n",
    "    global game_over\n",
    "    \n",
    "    y_pos = 0\n",
    "    \n",
    "    for x in markers:\n",
    "        # check_columns\n",
    "        if sum(x) == 3:\n",
    "            winner = 1\n",
    "            game_over = True\n",
    "        if sum(x) == -3:\n",
    "            winner = 2\n",
    "            game_over = True\n",
    "        \n",
    "        # check rows\n",
    "        if markers[0][y_pos] + markers[1][y_pos] + markers[2][y_pos] == 3:\n",
    "            winner = 1\n",
    "            game_over = True\n",
    "            \n",
    "        if markers[0][y_pos] + markers[1][y_pos] + markers[2][y_pos] == -3:\n",
    "            winner = 2\n",
    "            game_over = True\n",
    "        y_pos +=1\n",
    "        \n",
    "        # check cross\n",
    "        if markers[0][0] + markers [1][1] + markers[2][2] == 3 or markers[2][0] + markers [1][1] + markers[0][2] == 3:\n",
    "            winner = 1\n",
    "            game_over = True\n",
    "            \n",
    "        if markers[0][0] + markers [1][1] + markers[2][2] == -3 or markers[2][0] + markers [1][1] + markers[0][2] == -3:\n",
    "            winner = 2\n",
    "            game_over = True\n",
    "    \n",
    "\n",
    "def draw_winner(winner):\n",
    "    win_text = 'Player ' + str(winner) + ' wins!'\n",
    "    win_img = font.render(win_text, True, blue)\n",
    "    pygame.draw.rect(screen, green,  (screen_width // 2 - 100, screen_height // 2 - 60, 200, 50))\n",
    "    screen.blit(win_img, (screen_width // 2 - 100, screen_height // 2 - 50))\n",
    "    \n",
    "    again_text = 'Play again?'\n",
    "    again_img = font.render(again_text, True, blue)\n",
    "    pygame.draw.rect(screen, green, again_rect)\n",
    "    screen.blit(again_img, (screen_width // 2 - 80, screen_height // 2 + 10))\n",
    "    \n",
    "def draw_full():\n",
    "    full_text = 'The board is full!'\n",
    "    full_img = font.render(full_text, True, blue)\n",
    "    pygame.draw.rect(screen, green,  (screen_width // 2 - 100, screen_height // 2 - 60, 200, 50))\n",
    "    screen.blit(full_img, (screen_width // 2 - 100, screen_height // 2 - 50))\n",
    "    \n",
    "    again_text = 'Play again?'\n",
    "    again_img = font.render(again_text, True, blue)\n",
    "    pygame.draw.rect(screen, green, again_rect)\n",
    "    screen.blit(again_img, (screen_width // 2 - 80, screen_height // 2 + 10))\n",
    "    "
   ]
  },
  {
   "cell_type": "code",
   "execution_count": null,
   "metadata": {
    "metadata": {}
   },
   "outputs": [],
   "source": [
    "run = True\n",
    "\n",
    "while run:\n",
    "\n",
    "    draw_grid()\n",
    "    draw_markers()\n",
    "    \n",
    "    for event in pygame.event.get():\n",
    "        if event.type == pygame.QUIT:\n",
    "            run = False\n",
    "        if game_over == 0:\n",
    "            if event.type == pygame.MOUSEBUTTONDOWN and clicked == False:\n",
    "                clicked = True\n",
    "            if event.type == pygame.MOUSEBUTTONUP and clicked == True:\n",
    "                clicked = False\n",
    "                pos = pygame.mouse.get_pos()\n",
    "                cell_x = pos[0]\n",
    "                cell_y = pos[1]\n",
    "                if markers[cell_x//100][cell_y//100] == 0:\n",
    "                    markers[cell_x//100][cell_y//100] = player\n",
    "                    player *= -1\n",
    "                    check_winner()\n",
    "                    \n",
    "    if game_over == False:\n",
    "        if check_full() == True:\n",
    "            draw_full()\n",
    "            \n",
    "            if event.type == pygame.MOUSEBUTTONDOWN and clicked == False:\n",
    "                clicked = True\n",
    "            if event.type == pygame.MOUSEBUTTONUP and clicked == True:\n",
    "                clicked = False\n",
    "                pos = pygame.mouse.get_pos()\n",
    "                if again_rect.collidepoint(pos):\n",
    "                    line_width = 6\n",
    "                    markers = []\n",
    "                    for x in range(3):\n",
    "                        row = [0]*3\n",
    "                        markers.append(row)\n",
    "                    clicked = False\n",
    "                    player = 1\n",
    "                    winner = 0\n",
    "                    game_over = False\n",
    "            \n",
    "            \n",
    "    \n",
    "    \n",
    "    if game_over == True:\n",
    "        draw_winner(winner)\n",
    "        \n",
    "        if event.type == pygame.MOUSEBUTTONDOWN and clicked == False:\n",
    "            clicked = True\n",
    "        if event.type == pygame.MOUSEBUTTONUP and clicked == True:\n",
    "            clicked = False\n",
    "            pos = pygame.mouse.get_pos()\n",
    "            if again_rect.collidepoint(pos):\n",
    "                line_width = 6\n",
    "                markers = []\n",
    "                for x in range(3):\n",
    "                    row = [0]*3\n",
    "                    markers.append(row)\n",
    "                clicked = False\n",
    "                player = 1\n",
    "                winner = 0\n",
    "                game_over = False\n",
    "        \n",
    "    pygame.display.update()\n",
    "    # check_full()\n",
    "    # check_winner()\n",
    "\n",
    "pygame.quit()"
   ]
  }
 ],
 "metadata": {
  "kernelspec": {
   "display_name": "Python 3",
   "language": "python",
   "name": "python3"
  },
  "language_info": {
   "codemirror_mode": {
    "name": "ipython",
    "version": 3
   },
   "file_extension": ".py",
   "mimetype": "text/x-python",
   "name": "python",
   "nbconvert_exporter": "python",
   "pygments_lexer": "ipython3",
   "version": "3.9.13"
  },
  "orig_nbformat": 4
 },
 "nbformat": 4,
 "nbformat_minor": 2
}
